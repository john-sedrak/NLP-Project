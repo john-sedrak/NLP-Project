{
  "cells": [
    {
      "cell_type": "code",
      "execution_count": 1,
      "metadata": {
        "colab": {
          "base_uri": "https://localhost:8080/"
        },
        "id": "DXHodC_KfxCx",
        "outputId": "b2de3e5b-92ba-416c-cc4a-c4a42b92265f"
      },
      "outputs": [
        {
          "output_type": "stream",
          "name": "stdout",
          "text": [
            "Mounted at /content/drive\n"
          ]
        }
      ],
      "source": [
        "from google.colab import drive\n",
        "drive.mount('/content/drive')"
      ]
    },
    {
      "cell_type": "markdown",
      "source": [
        "# **Calculating the Average Number of Review Characters per Class**"
      ],
      "metadata": {
        "id": "UzgnP0ZDaQ3m"
      }
    },
    {
      "cell_type": "code",
      "execution_count": 2,
      "metadata": {
        "colab": {
          "base_uri": "https://localhost:8080/"
        },
        "id": "t8Qi5qsYjYWC",
        "outputId": "4c867d62-8f83-44c0-8aa4-d89c048b34b0"
      },
      "outputs": [
        {
          "output_type": "stream",
          "name": "stdout",
          "text": [
            "/content/drive/MyDrive\n",
            "pos  294.91485914859146\n",
            "neg  295.330453304533\n",
            "mixed  302.32159356812866\n"
          ]
        }
      ],
      "source": [
        "%cd /content/drive/MyDrive\n",
        "\n",
        "import csv\n",
        "with open(\"ar_reviews_100k.tsv\") as file:\n",
        "    tsv_file = csv.reader(file, delimiter=\"\\t\")\n",
        "    i=0\n",
        "    p_length=0\n",
        "    n_length=0\n",
        "    neutral=0\n",
        "    for l in  tsv_file:\n",
        "      if(l[0]=='Positive'):\n",
        "        p_length=p_length+len(l[1])\n",
        "      elif(l[0]=='Negative'):\n",
        "          n_length=n_length+len(l[1])\n",
        "      else:\n",
        "        neutral=neutral+len(l[1])\n",
        "      \n",
        "\n",
        "    print(\"pos \",p_length/33333)\n",
        "    print(\"neg \", n_length/33333)\n",
        "    print(\"mixed \",neutral/33334)"
      ]
    },
    {
      "cell_type": "markdown",
      "source": [
        "# **Word Count Per Class**"
      ],
      "metadata": {
        "id": "O3HtZFwKarU0"
      }
    },
    {
      "cell_type": "code",
      "execution_count": 7,
      "metadata": {
        "id": "Qehjtyf-i_N5"
      },
      "outputs": [],
      "source": [
        "vocab_pos ={}\n",
        "vocab_neg ={}\n",
        "vocab_mix ={}\n",
        "\n",
        "with open(\"ar_reviews_100k.tsv\") as file:\n",
        "    tsv_file = csv.reader(file, delimiter=\"\\t\")\n",
        "    i=0\n",
        "    p_length=0\n",
        "    n_length=0\n",
        "    neutral=0\n",
        "    for l in  tsv_file:\n",
        "      for x in l[1].split():\n",
        "        if(l[0]=='Positive'):\n",
        "          if(x in vocab_pos):\n",
        "            vocab_pos[x]=vocab_pos[x]+1\n",
        "          else:\n",
        "            vocab_pos[x]=1\n",
        "        elif(l[0]=='Negative'):\n",
        "          if(x in vocab_neg):\n",
        "            vocab_neg[x]=1+vocab_neg[x]      \n",
        "          else:\n",
        "            vocab_neg[x]=1\n",
        "        else:\n",
        "          if(x in vocab_mix):\n",
        "            vocab_mix[x]=1+vocab_mix[x]\n",
        "          else:     \n",
        "            vocab_mix[x]=1      \n"
      ]
    },
    {
      "cell_type": "markdown",
      "source": [
        "# **Finding the frequency of certain keywords in every class**"
      ],
      "metadata": {
        "id": "7PU8fLNPa-8V"
      }
    },
    {
      "cell_type": "code",
      "source": [
        "print(\"جيد\")\n",
        "print(\"pos \"  , vocab_pos[\"جيد\"])\n",
        "print(\"neg \"  ,  vocab_neg[\"جيد\"])\n",
        "print(\"mixed \", vocab_mix[\"جيد\"])\n",
        "\n",
        "print(\"ممتاز\")\n",
        "print(\"pos \"  , vocab_pos[\"ممتاز\"])\n",
        "print(\"neg \"  , vocab_neg[\"ممتاز\"])\n",
        "print(\"mixed \", vocab_mix[\"ممتاز\"])\n",
        "\n",
        "print(\"مخيب\")\n",
        "print(\"pos \"  , vocab_pos[\"مخيب\"])\n",
        "print(\"neg \"  , vocab_neg[\"مخيب\"])\n",
        "print(\"mixed \", vocab_mix[\"مخيب\"])\n",
        "\n",
        "print(\"مقبول\")\n",
        "print(\"pos \"  , vocab_pos[\"مقبول\"])\n",
        "print(\"neg \"  , vocab_neg[\"مقبول\"])\n",
        "print(\"mixed \", vocab_mix[\"مقبول\"])\n",
        "\n",
        "print(\"جميل\")\n",
        "print(\"pos \"  , vocab_pos[\"جميل\"])\n",
        "print(\"neg \"  , vocab_neg[\"جميل\"])\n",
        "print(\"mixed \", vocab_mix[\"جميل\"])\n"
      ],
      "metadata": {
        "colab": {
          "base_uri": "https://localhost:8080/"
        },
        "id": "f_vDsjv3BrmI",
        "outputId": "9af8f630-ccc1-4036-de70-4071c3e6eddc"
      },
      "execution_count": 8,
      "outputs": [
        {
          "output_type": "stream",
          "name": "stdout",
          "text": [
            "جيد\n",
            "pos  2326\n",
            "neg  1350\n",
            "mixed  2997\n",
            "ممتاز\n",
            "pos  2877\n",
            "neg  345\n",
            "mixed  866\n",
            "مخيب\n",
            "pos  3\n",
            "neg  2389\n",
            "mixed  30\n",
            "مقبول\n",
            "pos  75\n",
            "neg  286\n",
            "mixed  415\n",
            "جميل\n",
            "pos  2443\n",
            "neg  720\n",
            "mixed  1575\n"
          ]
        }
      ]
    },
    {
      "cell_type": "markdown",
      "source": [],
      "metadata": {
        "id": "2yuQ_L4BBF_x"
      }
    }
  ],
  "metadata": {
    "colab": {
      "provenance": []
    },
    "kernelspec": {
      "display_name": "Python 3",
      "name": "python3"
    },
    "language_info": {
      "name": "python"
    }
  },
  "nbformat": 4,
  "nbformat_minor": 0
}
