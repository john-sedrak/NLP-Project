{
 "cells": [
  {
   "cell_type": "code",
   "execution_count": 1,
   "metadata": {},
   "outputs": [],
   "source": [
    "import nltk\n",
    "from nltk.tokenize import wordpunct_tokenize\n",
    "import pandas as pd\n",
    "import matplotlib.pyplot as plt\n",
    "import math\n",
    "import subprocess\n",
    "import tempfile\n",
    "import os\n",
    "import concurrent.futures as futs\n",
    "%matplotlib inline"
   ]
  },
  {
   "cell_type": "code",
   "execution_count": 2,
   "metadata": {},
   "outputs": [
    {
     "data": {
      "text/html": [
       "<div>\n",
       "<style scoped>\n",
       "    .dataframe tbody tr th:only-of-type {\n",
       "        vertical-align: middle;\n",
       "    }\n",
       "\n",
       "    .dataframe tbody tr th {\n",
       "        vertical-align: top;\n",
       "    }\n",
       "\n",
       "    .dataframe thead th {\n",
       "        text-align: right;\n",
       "    }\n",
       "</style>\n",
       "<table border=\"1\" class=\"dataframe\">\n",
       "  <thead>\n",
       "    <tr style=\"text-align: right;\">\n",
       "      <th></th>\n",
       "      <th>label</th>\n",
       "      <th>text</th>\n",
       "    </tr>\n",
       "  </thead>\n",
       "  <tbody>\n",
       "    <tr>\n",
       "      <th>0</th>\n",
       "      <td>Positive</td>\n",
       "      <td>ممتاز نوعا ما . النظافة والموقع والتجهيز والشا...</td>\n",
       "    </tr>\n",
       "    <tr>\n",
       "      <th>1</th>\n",
       "      <td>Positive</td>\n",
       "      <td>أحد أسباب نجاح الإمارات أن كل شخص في هذه الدول...</td>\n",
       "    </tr>\n",
       "    <tr>\n",
       "      <th>2</th>\n",
       "      <td>Positive</td>\n",
       "      <td>هادفة .. وقوية. تنقلك من صخب شوارع القاهرة الى...</td>\n",
       "    </tr>\n",
       "    <tr>\n",
       "      <th>3</th>\n",
       "      <td>Positive</td>\n",
       "      <td>خلصنا .. مبدئيا اللي مستني ابهار زي الفيل الاز...</td>\n",
       "    </tr>\n",
       "    <tr>\n",
       "      <th>4</th>\n",
       "      <td>Positive</td>\n",
       "      <td>ياسات جلوريا جزء لا يتجزأ من دبي . فندق متكامل...</td>\n",
       "    </tr>\n",
       "  </tbody>\n",
       "</table>\n",
       "</div>"
      ],
      "text/plain": [
       "      label                                               text\n",
       "0  Positive  ممتاز نوعا ما . النظافة والموقع والتجهيز والشا...\n",
       "1  Positive  أحد أسباب نجاح الإمارات أن كل شخص في هذه الدول...\n",
       "2  Positive  هادفة .. وقوية. تنقلك من صخب شوارع القاهرة الى...\n",
       "3  Positive  خلصنا .. مبدئيا اللي مستني ابهار زي الفيل الاز...\n",
       "4  Positive  ياسات جلوريا جزء لا يتجزأ من دبي . فندق متكامل..."
      ]
     },
     "execution_count": 2,
     "metadata": {},
     "output_type": "execute_result"
    }
   ],
   "source": [
    "raw = pd.read_table(\"Raw Data/ar_reviews_100k.tsv\")\n",
    "raw.head()"
   ]
  },
  {
   "cell_type": "code",
   "execution_count": 26,
   "metadata": {},
   "outputs": [
    {
     "data": {
      "text/html": [
       "<div>\n",
       "<style scoped>\n",
       "    .dataframe tbody tr th:only-of-type {\n",
       "        vertical-align: middle;\n",
       "    }\n",
       "\n",
       "    .dataframe tbody tr th {\n",
       "        vertical-align: top;\n",
       "    }\n",
       "\n",
       "    .dataframe thead th {\n",
       "        text-align: right;\n",
       "    }\n",
       "</style>\n",
       "<table border=\"1\" class=\"dataframe\">\n",
       "  <thead>\n",
       "    <tr style=\"text-align: right;\">\n",
       "      <th></th>\n",
       "      <th>label</th>\n",
       "      <th>text</th>\n",
       "    </tr>\n",
       "  </thead>\n",
       "  <tbody>\n",
       "    <tr>\n",
       "      <th>14399</th>\n",
       "      <td>Positive</td>\n",
       "      <td>كتاب اكثر من رائع لا امل ابدا من قراءته انصح ا...</td>\n",
       "    </tr>\n",
       "    <tr>\n",
       "      <th>14397</th>\n",
       "      <td>Positive</td>\n",
       "      <td>الواقع</td>\n",
       "    </tr>\n",
       "    <tr>\n",
       "      <th>14665</th>\n",
       "      <td>Positive</td>\n",
       "      <td>جيد. قربه من مول الامارات.</td>\n",
       "    </tr>\n",
       "    <tr>\n",
       "      <th>14720</th>\n",
       "      <td>Positive</td>\n",
       "      <td>استثنائي. الخدمة الممتازة.</td>\n",
       "    </tr>\n",
       "    <tr>\n",
       "      <th>16221</th>\n",
       "      <td>Positive</td>\n",
       "      <td>جيد. . ضيق الغرفه</td>\n",
       "    </tr>\n",
       "    <tr>\n",
       "      <th>17358</th>\n",
       "      <td>Positive</td>\n",
       "      <td>اكثر من رائع . كل شي.</td>\n",
       "    </tr>\n",
       "    <tr>\n",
       "      <th>19917</th>\n",
       "      <td>Positive</td>\n",
       "      <td>اكثر من رائعه :</td>\n",
       "    </tr>\n",
       "    <tr>\n",
       "      <th>35785</th>\n",
       "      <td>Mixed</td>\n",
       "      <td>جيد جدا ..</td>\n",
       "    </tr>\n",
       "    <tr>\n",
       "      <th>42743</th>\n",
       "      <td>Mixed</td>\n",
       "      <td>كتاب دمة خفيف :</td>\n",
       "    </tr>\n",
       "    <tr>\n",
       "      <th>47542</th>\n",
       "      <td>Mixed</td>\n",
       "      <td>مقبول. . خدمات تنظيف الغرف</td>\n",
       "    </tr>\n",
       "    <tr>\n",
       "      <th>50705</th>\n",
       "      <td>Mixed</td>\n",
       "      <td>مقبول. الموقع. الخدمات</td>\n",
       "    </tr>\n",
       "    <tr>\n",
       "      <th>51408</th>\n",
       "      <td>Mixed</td>\n",
       "      <td>مرضي. . لايوجد مطاعم</td>\n",
       "    </tr>\n",
       "  </tbody>\n",
       "</table>\n",
       "</div>"
      ],
      "text/plain": [
       "          label                                               text\n",
       "14399  Positive  كتاب اكثر من رائع لا امل ابدا من قراءته انصح ا...\n",
       "14397  Positive                                             الواقع\n",
       "14665  Positive                         جيد. قربه من مول الامارات.\n",
       "14720  Positive                         استثنائي. الخدمة الممتازة.\n",
       "16221  Positive                                  جيد. . ضيق الغرفه\n",
       "17358  Positive                              اكثر من رائع . كل شي.\n",
       "19917  Positive                                    اكثر من رائعه :\n",
       "35785     Mixed                                         جيد جدا ..\n",
       "42743     Mixed                                    كتاب دمة خفيف :\n",
       "47542     Mixed                         مقبول. . خدمات تنظيف الغرف\n",
       "50705     Mixed                             مقبول. الموقع. الخدمات\n",
       "51408     Mixed                               مرضي. . لايوجد مطاعم"
      ]
     },
     "execution_count": 26,
     "metadata": {},
     "output_type": "execute_result"
    }
   ],
   "source": [
    "raw.iloc[[14399,14397, 14665, 14720, 16221, 17358, 19917, 35785, 42743, 47542, 50705, 51408]]"
   ]
  },
  {
   "cell_type": "code",
   "execution_count": 3,
   "metadata": {},
   "outputs": [
    {
     "data": {
      "text/plain": [
       "'أحد أسباب نجاح الإمارات أن كل شخص في هذه الدولة يعشق ترابها. نحن نحب الإمارات. ومضات من فكر. نصائح لدولة تطمح بالصفوف الأولى و قائد لا يقبل إلا براحة شعبه وتوفر كل سب العيش الكريم. حكم و مواقف ونصائح لكل فرد فينا ليس بمجرد كتاب سياسي كما كنت اعتقد. يستحق القراءة مرات كثيرة'"
      ]
     },
     "execution_count": 3,
     "metadata": {},
     "output_type": "execute_result"
    }
   ],
   "source": [
    "raw.loc[raw.text.str.match('[^ا-ي]')].iloc[0].text"
   ]
  },
  {
   "cell_type": "code",
   "execution_count": 4,
   "metadata": {},
   "outputs": [
    {
     "name": "stdout",
     "output_type": "stream",
     "text": [
      "ممتاز نوعا ما . النظافة والموقع والتجهيز والشاطيء. المطعم\n"
     ]
    },
    {
     "data": {
      "text/plain": [
       "['ممتاز',\n",
       " 'نوعا',\n",
       " 'ما',\n",
       " '.',\n",
       " 'النظافة',\n",
       " 'والموقع',\n",
       " 'والتجهيز',\n",
       " 'والشاطيء',\n",
       " '.',\n",
       " 'المطعم']"
      ]
     },
     "execution_count": 4,
     "metadata": {},
     "output_type": "execute_result"
    }
   ],
   "source": [
    "print(raw.iloc[0].text)\n",
    "wordpunct_tokenize(raw.iloc[0].text)"
   ]
  },
  {
   "cell_type": "code",
   "execution_count": 5,
   "metadata": {},
   "outputs": [
    {
     "data": {
      "text/plain": [
       "Positive    33333\n",
       "Mixed       33333\n",
       "Negative    33333\n",
       "Name: label, dtype: int64"
      ]
     },
     "execution_count": 5,
     "metadata": {},
     "output_type": "execute_result"
    }
   ],
   "source": [
    "labelcounts = raw.label.value_counts()\n",
    "labelcounts"
   ]
  },
  {
   "cell_type": "code",
   "execution_count": 6,
   "metadata": {},
   "outputs": [
    {
     "data": {
      "image/png": "[encoded data removed]",
      "text/plain": [
       "<Figure size 1080x576 with 1 Axes>"
      ]
     },
     "metadata": {},
     "output_type": "display_data"
    }
   ],
   "source": [
    "plt.figure(facecolor=\"white\", figsize=(15,8))\n",
    "wedges, texts, autotexts = plt.pie(labelcounts.values, wedgeprops=dict(width=0.5), startangle=90, autopct= lambda x: str(math.floor(x/1)) + '%', textprops={'color':'w'}, pctdistance=0.7)\n",
    "plt.title(\"Review Class Distribution\", fontsize=16)\n",
    "plt.legend(labelcounts.index, fontsize=14)\n",
    "plt.setp(autotexts, size=14, weight='bold')\n",
    "plt.show()\n",
    "\n"
   ]
  },
  {
   "cell_type": "code",
   "execution_count": 7,
   "metadata": {},
   "outputs": [],
   "source": [
    "# import json\n",
    "# import requests\n",
    "# url = \"https://farasa.qcri.org/webapi/lemmatization/\"\n",
    "# text = raw.iloc[0].text\n",
    "# api_key = \"fbYdeESysyQpEiYEda\"\n",
    "# data = requests.post(url, data={'text':text, 'api_key': api_key})\n",
    "# result = json.loads(data.text)\n",
    "# print(result['text'])"
   ]
  },
  {
   "cell_type": "code",
   "execution_count": 8,
   "metadata": {},
   "outputs": [],
   "source": [
    "lemmatized = []"
   ]
  },
  {
   "cell_type": "code",
   "execution_count": 9,
   "metadata": {},
   "outputs": [],
   "source": [
    "def run(row):\n",
    "    itmp = tempfile.NamedTemporaryFile(dir='./temp', delete=False)\n",
    "    otmp = tempfile.NamedTemporaryFile(dir='./temp', delete=False)\n",
    "\n",
    "    value = None\n",
    "    try:\n",
    "        itmp.write(str.encode(row[1].text))\n",
    "        itmp.flush()\n",
    "        proc = subprocess.run(\n",
    "            [\"java\", \"-Dfile.encoding=UTF-8\", \"-jar\", \"FarasaSegmenterJar.jar\", '-l', 'true', '-i', itmp.name, '-o', otmp.name],\n",
    "            stdout=subprocess.PIPE,\n",
    "            stderr=subprocess.PIPE,\n",
    "            text=True\n",
    "        )\n",
    "        if proc.returncode == 0:\n",
    "            value = otmp.read().decode(\"utf8\").strip()\n",
    "        else:\n",
    "            print(f\"error occurred! stdout: , {proc.stdout},  stderr: , {proc.stderr}\")\n",
    "            print(f\"return code: {proc.returncode}\")\n",
    "            raise Exception(\"Internal error occured\")\n",
    "    finally:\n",
    "        itmp.close()\n",
    "        otmp.close()\n",
    "        os.unlink(itmp.name)\n",
    "        os.unlink(otmp.name)\n",
    "\n",
    "        return (row[0],value)\n",
    "\n",
    "def populateLemmatized(value):\n",
    "    lemmatized.append(value)\n"
   ]
  },
  {
   "cell_type": "code",
   "execution_count": null,
   "metadata": {},
   "outputs": [],
   "source": [
    "\n",
    "if __name__ == \"__main__\":\n",
    "    \n",
    "    pool = futs.ThreadPoolExecutor()\n",
    "    for row in raw[15951:].iterrows():\n",
    "\n",
    "        future = pool.submit(run, row)\n",
    "        future.add_done_callback(lambda x: populateLemmatized(x))\n",
    "        \n",
    "\n",
    "\n"
   ]
  },
  {
   "cell_type": "code",
   "execution_count": 16,
   "metadata": {},
   "outputs": [],
   "source": [
    "if __name__ == \"__main__\":\n",
    "    \n",
    "    pool = futs.ThreadPoolExecutor()\n",
    "    for row in raw.iloc[[14397, 14665, 14720, 16221, 17358, 19917, 35785, 42743, 47542, 50705, 51408]].iterrows():\n",
    "\n",
    "        future = pool.submit(run, row)\n",
    "        future.add_done_callback(lambda x: populateLemmatized(x))"
   ]
  },
  {
   "cell_type": "code",
   "execution_count": 20,
   "metadata": {},
   "outputs": [
    {
     "name": "stdout",
     "output_type": "stream",
     "text": [
      "11\n"
     ]
    }
   ],
   "source": [
    "\n",
    "print(len(lemmatized))\n",
    "\n",
    "\n"
   ]
  },
  {
   "cell_type": "code",
   "execution_count": 21,
   "metadata": {},
   "outputs": [
    {
     "data": {
      "text/plain": [
       "[(17358, 'أكثر من رائع . كل شي .'),\n",
       " (14665, 'جيد . قرب من مول إمارة .'),\n",
       " (16221, 'جيد . . ضيق غرفة'),\n",
       " (14397, 'واقع'),\n",
       " (47542, 'مقبول . . خدمة تنظيف غرفة'),\n",
       " (42743, 'كتاب دم خفيف :'),\n",
       " (51408, 'مرض . . لايوجد مطعم'),\n",
       " (35785, 'جيد جد . .'),\n",
       " (50705, 'مقبول . موقع . خدمة'),\n",
       " (14720, 'استثنائي . خدمة ممتاز .'),\n",
       " (19917, 'أكثر من رائع :')]"
      ]
     },
     "execution_count": 21,
     "metadata": {},
     "output_type": "execute_result"
    }
   ],
   "source": [
    "lem_copy = lemmatized\n",
    "new_lemmatized = []\n",
    "for future in lem_copy:\n",
    "    new_lemmatized.append(future.result())\n",
    "new_lemmatized"
   ]
  },
  {
   "cell_type": "code",
   "execution_count": 22,
   "metadata": {},
   "outputs": [
    {
     "name": "stdout",
     "output_type": "stream",
     "text": [
      "11\n"
     ]
    },
    {
     "data": {
      "text/plain": [
       "['lemmissing.joblib']"
      ]
     },
     "execution_count": 22,
     "metadata": {},
     "output_type": "execute_result"
    }
   ],
   "source": [
    "import joblib\n",
    "print(len(new_lemmatized))\n",
    "\n",
    "joblib.dump(new_lemmatized,'Lem Files/lemmissing.joblib')\n"
   ]
  },
  {
   "cell_type": "code",
   "execution_count": 13,
   "metadata": {},
   "outputs": [
    {
     "data": {
      "text/plain": [
       "'ياسات جلوريا جزء لا يتجزأ من دبي . فندق متكامل الخدمات مريح نفسيا. لا يوجد'"
      ]
     },
     "execution_count": 13,
     "metadata": {},
     "output_type": "execute_result"
    },
    {
     "name": "stdout",
     "output_type": "stream",
     "text": [
      "24\n",
      "25\n",
      "26\n",
      "27\n",
      "28\n",
      "29\n",
      "30\n",
      "31\n",
      "32\n",
      "33\n",
      "34\n",
      "35\n",
      "36\n",
      "37\n",
      "38\n",
      "39\n",
      "40\n",
      "41\n",
      "42\n",
      "43\n",
      "44\n",
      "45\n",
      "46\n"
     ]
    }
   ],
   "source": [
    "raw.iloc[4].text"
   ]
  },
  {
   "cell_type": "code",
   "execution_count": 10,
   "metadata": {},
   "outputs": [
    {
     "data": {
      "text/plain": [
       "'ويييي'"
      ]
     },
     "execution_count": 10,
     "metadata": {},
     "output_type": "execute_result"
    }
   ],
   "source": [
    "from tashaphyne.stemming import ArabicLightStemmer\n",
    "\n",
    "stemmer = ArabicLightStemmer()\n",
    "\n",
    "stemmer.light_stem(u\"اوييييي\")\n",
    "\n",
    "stemmer.get_stem()"
   ]
  },
  {
   "cell_type": "code",
   "execution_count": 2,
   "metadata": {},
   "outputs": [
    {
     "data": {
      "text/plain": [
       "'جميل'"
      ]
     },
     "execution_count": 2,
     "metadata": {},
     "output_type": "execute_result"
    }
   ],
   "source": [
    "from spellchecker import SpellChecker\n",
    "\n",
    "checker = SpellChecker(language='ar')\n",
    "\n",
    "checker.correction('جميل')"
   ]
  }
 ],
 "metadata": {
  "kernelspec": {
   "display_name": "Python 3",
   "language": "python",
   "name": "python3"
  },
  "language_info": {
   "codemirror_mode": {
    "name": "ipython",
    "version": 3
   },
   "file_extension": ".py",
   "mimetype": "text/x-python",
   "name": "python",
   "nbconvert_exporter": "python",
   "pygments_lexer": "ipython3",
   "version": "3.9.2"
  },
  "orig_nbformat": 4
 },
 "nbformat": 4,
 "nbformat_minor": 2
}
