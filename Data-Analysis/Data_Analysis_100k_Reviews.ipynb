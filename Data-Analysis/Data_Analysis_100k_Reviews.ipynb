{
  "cells": [
    {
      "cell_type": "code",
      "execution_count": null,
      "metadata": {
        "colab": {
          "base_uri": "https://localhost:8080/"
        },
        "id": "DXHodC_KfxCx",
        "outputId": "3cd4ef71-9da9-487c-f8e0-08c444ed57db"
      },
      "outputs": [
        {
          "output_type": "stream",
          "name": "stdout",
          "text": [
            "Drive already mounted at /content/drive; to attempt to forcibly remount, call drive.mount(\"/content/drive\", force_remount=True).\n"
          ]
        }
      ],
      "source": [
        "from google.colab import drive\n",
        "drive.mount('/content/drive')"
      ]
    },
    {
      "cell_type": "code",
      "execution_count": null,
      "metadata": {
        "colab": {
          "base_uri": "https://localhost:8080/"
        },
        "id": "t8Qi5qsYjYWC",
        "outputId": "c3c5f08e-1206-4551-9843-1e9cbb0a549b"
      },
      "outputs": [
        {
          "output_type": "stream",
          "name": "stdout",
          "text": [
            "/content/drive/MyDrive\n",
            "pos  294.91485914859146\n",
            "neg  295.330453304533\n",
            "mixed  302.32159356812866\n"
          ]
        }
      ],
      "source": [
        "%cd /content/drive/MyDrive\n",
        "\n",
        "import csv\n",
        "with open(\"ar_reviews_100k.tsv\") as file:\n",
        "    tsv_file = csv.reader(file, delimiter=\"\\t\")\n",
        "    i=0\n",
        "    p_length=0\n",
        "    n_length=0\n",
        "    neutral=0\n",
        "    for l in  tsv_file:\n",
        "      if(l[0]=='Positive'):\n",
        "        p_length=p_length+len(l[1])\n",
        "      elif(l[0]=='Negative'):\n",
        "          n_length=n_length+len(l[1])\n",
        "      else:\n",
        "        neutral=neutral+len(l[1])\n",
        "      \n",
        "\n",
        "    print(\"pos \",p_length/33333)\n",
        "    print(\"neg \", n_length/33333)\n",
        "    print(\"mixed \",neutral/33334)"
      ]
    },
    {
      "cell_type": "code",
      "execution_count": null,
      "metadata": {
        "id": "Qehjtyf-i_N5"
      },
      "outputs": [],
      "source": [
        "vocab_pos ={}\n",
        "vocab_neg ={}\n",
        "vocab_mix ={}\n",
        "\n",
        "with open(\"ar_reviews_100k.tsv\") as file:\n",
        "    tsv_file = csv.reader(file, delimiter=\"\\t\")\n",
        "    i=0\n",
        "    p_length=0\n",
        "    n_length=0\n",
        "    neutral=0\n",
        "    for l in  tsv_file:\n",
        "      for x in l[1].split():\n",
        "        if(l[0]=='Positive'):\n",
        "          if(x in vocab_pos):\n",
        "            vocab_pos[x]=vocab_pos[x]+1\n",
        "          else:\n",
        "            vocab_pos[x]=1\n",
        "        elif(l[0]=='Negative'):\n",
        "          if(x in vocab_neg):\n",
        "            vocab_neg[x]=1+vocab_neg[x]      \n",
        "          else:\n",
        "            vocab_neg[x]=1\n",
        "        else:\n",
        "          if(x in vocab_mix):\n",
        "            vocab_mix[x]=1+vocab_mix[x]\n",
        "          else:     \n",
        "            vocab_mix[x]=1      \n"
      ]
    },
    {
      "cell_type": "code",
      "source": [
        "\n",
        "vocab_pos = sorted(dict(vocab_pos).items(), key=lambda x:x[1], reverse=True)\n",
        "vocab_pos = list(vocab_pos)\n",
        "\n",
        "vocab_neg = sorted(dict(vocab_neg).items(), key=lambda x:x[1], reverse=True)\n",
        "vocab_neg = list(vocab_neg)\n",
        "\n",
        "vocab_mix = sorted(dict(vocab_mix).items(), key=lambda x:x[1], reverse=True)\n",
        "vocab_mix = list(vocab_mix)\n",
        "\n"
      ],
      "metadata": {
        "id": "MOBQl0e80v7d"
      },
      "execution_count": null,
      "outputs": []
    },
    {
      "cell_type": "code",
      "source": [
        "print(\"جيد\")\n",
        "print(\"pos \"  , vocab_pos[\"جيد\"])\n",
        "print(\"neg \"  ,  vocab_neg[\"جيد\"])\n",
        "print(\"mixed \", vocab_mix[\"جيد\"])\n",
        "\n",
        "print(\"ممتاز\")\n",
        "print(\"pos \"  , vocab_pos[\"ممتاز\"])\n",
        "print(\"neg \"  , vocab_neg[\"ممتاز\"])\n",
        "print(\"mixed \", vocab_mix[\"ممتاز\"])\n",
        "\n",
        "print(\"مخيب\")\n",
        "print(\"pos \"  , vocab_pos[\"مخيب\"])\n",
        "print(\"neg \"  , vocab_neg[\"مخيب\"])\n",
        "print(\"mixed \", vocab_mix[\"مخيب\"])\n",
        "\n",
        "print(\"مقبول\")\n",
        "print(\"pos \"  , vocab_pos[\"مقبول\"])\n",
        "print(\"neg \"  , vocab_neg[\"مقبول\"])\n",
        "print(\"mixed \", vocab_mix[\"مقبول\"])\n",
        "\n",
        "print(\"جميل\")\n",
        "print(\"pos \"  , vocab_pos[\"جميل\"])\n",
        "print(\"neg \"  , vocab_neg[\"جميل\"])\n",
        "print(\"mixed \", vocab_mix[\"جميل\"])\n"
      ],
      "metadata": {
        "colab": {
          "base_uri": "https://localhost:8080/"
        },
        "id": "f_vDsjv3BrmI",
        "outputId": "7fb34272-3f73-4838-a1f3-fb12e7f8bd40"
      },
      "execution_count": null,
      "outputs": [
        {
          "output_type": "stream",
          "name": "stdout",
          "text": [
            "جيد\n",
            "pos  2326\n",
            "neg  1350\n",
            "mixed  2997\n",
            "ممتاز\n",
            "pos  2877\n",
            "neg  345\n",
            "mixed  866\n",
            "مخيب\n",
            "pos  3\n",
            "neg  2389\n",
            "mixed  30\n",
            "مقبول\n",
            "pos  75\n",
            "neg  286\n",
            "mixed  415\n",
            "جميل\n",
            "pos  2443\n",
            "neg  720\n",
            "mixed  1575\n"
          ]
        }
      ]
    },
    {
      "cell_type": "markdown",
      "source": [],
      "metadata": {
        "id": "2yuQ_L4BBF_x"
      }
    }
  ],
  "metadata": {
    "colab": {
      "provenance": []
    },
    "kernelspec": {
      "display_name": "Python 3",
      "name": "python3"
    },
    "language_info": {
      "name": "python"
    }
  },
  "nbformat": 4,
  "nbformat_minor": 0
}